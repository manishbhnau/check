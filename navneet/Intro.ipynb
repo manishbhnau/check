{
  "nbformat": 4,
  "nbformat_minor": 0,
  "metadata": {
    "kernelspec": {
      "display_name": "Python 2",
      "language": "python",
      "name": "python2"
    },
    "language_info": {
      "codemirror_mode": {
        "name": "ipython",
        "version": 2
      },
      "file_extension": ".py",
      "mimetype": "text/x-python",
      "name": "python",
      "nbconvert_exporter": "python",
      "pygments_lexer": "ipython2",
      "version": "2.7.9"
    },
    "colab": {
      "name": "Intro.ipynb",
      "provenance": [],
      "include_colab_link": true
    }
  },
  "cells": [
    {
      "cell_type": "markdown",
      "metadata": {
        "id": "view-in-github",
        "colab_type": "text"
      },
      "source": [
        "<a href=\"https://colab.research.google.com/github/manishbhnau/check/blob/master/navneet/Intro.ipynb\" target=\"_parent\"><img src=\"https://colab.research.google.com/assets/colab-badge.svg\" alt=\"Open In Colab\"/></a>"
      ]
    },
    {
      "cell_type": "markdown",
      "metadata": {
        "id": "9qryZ7Coi9Zl",
        "colab_type": "text"
      },
      "source": [
        "# Introduction To Pythons"
      ]
    },
    {
      "cell_type": "markdown",
      "metadata": {
        "id": "DM9GFK0_i9Zn",
        "colab_type": "text"
      },
      "source": [
        "This is a collection of various statements, features, etc. of IPython and the Python language.  Much of this content is taken from other notebooks so I can't take credit for it, I just extracted the highlights I felt were most useful.\n",
        "\n",
        "Code cells are run by pressing shift-enter or using the play button in the toolbar."
      ]
    },
    {
      "cell_type": "code",
      "metadata": {
        "id": "OEISNTjyi9Zp",
        "colab_type": "code",
        "colab": {}
      },
      "source": [
        "a = 10\n",
        "ax=55"
      ],
      "execution_count": null,
      "outputs": []
    },
    {
      "cell_type": "code",
      "metadata": {
        "id": "gdF5PhNYi9Z3",
        "colab_type": "code",
        "colab": {
          "base_uri": "https://localhost:8080/",
          "height": 34
        },
        "outputId": "2dd4247b-74d0-440d-a28e-068f7de1b3ac"
      },
      "source": [
        "print(a, ax)"
      ],
      "execution_count": null,
      "outputs": [
        {
          "output_type": "stream",
          "text": [
            "(10, 55)\n"
          ],
          "name": "stdout"
        }
      ]
    },
    {
      "cell_type": "code",
      "metadata": {
        "id": "yysLyMPvi9Z-",
        "colab_type": "code",
        "colab": {}
      },
      "source": [
        "import math"
      ],
      "execution_count": null,
      "outputs": []
    },
    {
      "cell_type": "code",
      "metadata": {
        "id": "ROpo96jgi9aG",
        "colab_type": "code",
        "colab": {},
        "outputId": "1f02f479-6c3b-4ca1-d404-84d844c34894"
      },
      "source": [
        "x = math.cos(2 * math.pi)\n",
        "print(x)"
      ],
      "execution_count": null,
      "outputs": [
        {
          "output_type": "stream",
          "text": [
            "1.0\n"
          ],
          "name": "stdout"
        }
      ]
    },
    {
      "cell_type": "markdown",
      "metadata": {
        "id": "aoIQKJEli9aO",
        "colab_type": "text"
      },
      "source": [
        "Import the whole module into the current namespace instead."
      ]
    },
    {
      "cell_type": "code",
      "metadata": {
        "id": "Twp_NcBMi9aO",
        "colab_type": "code",
        "colab": {},
        "outputId": "02d24652-9049-4bf0-fc1f-0d7848f8e8a8"
      },
      "source": [
        "from math import *\n",
        "x = cos(2 * pi)\n",
        "print(x)"
      ],
      "execution_count": null,
      "outputs": [
        {
          "output_type": "stream",
          "text": [
            "1.0\n"
          ],
          "name": "stdout"
        }
      ]
    },
    {
      "cell_type": "markdown",
      "metadata": {
        "id": "G38PFXpQi9aW",
        "colab_type": "text"
      },
      "source": [
        "Several ways to look at documentation for a module."
      ]
    },
    {
      "cell_type": "code",
      "metadata": {
        "id": "B-DKFawOi9aX",
        "colab_type": "code",
        "colab": {},
        "outputId": "9e2aa820-7ac7-465a-db60-911afeef9ae6"
      },
      "source": [
        "print(dir(math))"
      ],
      "execution_count": null,
      "outputs": [
        {
          "output_type": "stream",
          "text": [
            "['__doc__', '__name__', '__package__', 'acos', 'acosh', 'asin', 'asinh', 'atan', 'atan2', 'atanh', 'ceil', 'copysign', 'cos', 'cosh', 'degrees', 'e', 'erf', 'erfc', 'exp', 'expm1', 'fabs', 'factorial', 'floor', 'fmod', 'frexp', 'fsum', 'gamma', 'hypot', 'isinf', 'isnan', 'ldexp', 'lgamma', 'log', 'log10', 'log1p', 'modf', 'pi', 'pow', 'radians', 'sin', 'sinh', 'sqrt', 'tan', 'tanh', 'trunc']\n"
          ],
          "name": "stdout"
        }
      ]
    },
    {
      "cell_type": "code",
      "metadata": {
        "id": "eA92rw4bi9ae",
        "colab_type": "code",
        "colab": {},
        "outputId": "c87e8e10-eb41-482f-b538-c14d3499bcc7"
      },
      "source": [
        "helps(math.cos)"
      ],
      "execution_count": null,
      "outputs": [
        {
          "output_type": "stream",
          "text": [
            "Help on built-in function cos in module math:\n",
            "\n",
            "cos(...)\n",
            "    cos(x)\n",
            "    \n",
            "    Return the cosine of x (measured in radians).\n",
            "\n"
          ],
          "name": "stdout"
        }
      ]
    },
    {
      "cell_type": "markdown",
      "metadata": {
        "id": "v0TIvxlCi9aj",
        "colab_type": "text"
      },
      "source": [
        "### Variables"
      ]
    },
    {
      "cell_type": "code",
      "metadata": {
        "id": "ayyzKHuFi9ak",
        "colab_type": "code",
        "colab": {},
        "outputId": "2c44ffd5-85ae-4ca7-991f-7b7fcc46a4f2"
      },
      "source": [
        "x = 1.0\n",
        "type(x)"
      ],
      "execution_count": null,
      "outputs": [
        {
          "output_type": "execute_result",
          "data": {
            "text/plain": [
              "float"
            ]
          },
          "metadata": {
            "tags": []
          },
          "execution_count": 8
        }
      ]
    },
    {
      "cell_type": "code",
      "metadata": {
        "id": "Nz0jX4Eli9ap",
        "colab_type": "code",
        "colab": {},
        "outputId": "294b0c1d-8c6e-4202-c7bc-140b2733acd4"
      },
      "source": [
        "# dynamically typed\n",
        "x = 1\n",
        "type(x)"
      ],
      "execution_count": null,
      "outputs": [
        {
          "output_type": "execute_result",
          "data": {
            "text/plain": [
              "int"
            ]
          },
          "metadata": {
            "tags": []
          },
          "execution_count": 9
        }
      ]
    },
    {
      "cell_type": "markdown",
      "metadata": {
        "id": "5ZP2tw-Di9au",
        "colab_type": "text"
      },
      "source": [
        "### Operators"
      ]
    },
    {
      "cell_type": "code",
      "metadata": {
        "id": "R9bU3GU-i9aw",
        "colab_type": "code",
        "colab": {},
        "outputId": "45382dcb-d9e5-4d8e-a96d-85ce6a8200ed"
      },
      "source": [
        "1 + 2, 1 - 2, 1 * 2, 1 / 2"
      ],
      "execution_count": null,
      "outputs": [
        {
          "output_type": "execute_result",
          "data": {
            "text/plain": [
              "(3, -1, 2, 0)"
            ]
          },
          "metadata": {
            "tags": []
          },
          "execution_count": 10
        }
      ]
    },
    {
      "cell_type": "code",
      "metadata": {
        "id": "JpdGwnLTi9a1",
        "colab_type": "code",
        "colab": {},
        "outputId": "6d77c5dd-09dc-4fce-eddb-3cd789c4ae31"
      },
      "source": [
        "# integer division of float numbers\n",
        "3.0 // 2.0"
      ],
      "execution_count": null,
      "outputs": [
        {
          "output_type": "execute_result",
          "data": {
            "text/plain": [
              "1.0"
            ]
          },
          "metadata": {
            "tags": []
          },
          "execution_count": 11
        }
      ]
    },
    {
      "cell_type": "code",
      "metadata": {
        "id": "1SpW9nsli9a7",
        "colab_type": "code",
        "colab": {},
        "outputId": "0cca20bc-b4d9-45a1-f602-2ee6fb8eb3c6"
      },
      "source": [
        "# power operator\n",
        "2 ** 2"
      ],
      "execution_count": null,
      "outputs": [
        {
          "output_type": "execute_result",
          "data": {
            "text/plain": [
              "4"
            ]
          },
          "metadata": {
            "tags": []
          },
          "execution_count": 12
        }
      ]
    },
    {
      "cell_type": "code",
      "metadata": {
        "id": "arTbppl2i9bC",
        "colab_type": "code",
        "colab": {},
        "outputId": "04a3e069-bfac-441b-8060-ef7ac8e6387c"
      },
      "source": [
        "True and False"
      ],
      "execution_count": null,
      "outputs": [
        {
          "output_type": "execute_result",
          "data": {
            "text/plain": [
              "False"
            ]
          },
          "metadata": {
            "tags": []
          },
          "execution_count": 13
        }
      ]
    },
    {
      "cell_type": "code",
      "metadata": {
        "id": "OJWQPekai9bH",
        "colab_type": "code",
        "colab": {},
        "outputId": "918e657c-e1ac-4f51-ef95-4177d03c0468"
      },
      "source": [
        "not False"
      ],
      "execution_count": null,
      "outputs": [
        {
          "output_type": "execute_result",
          "data": {
            "text/plain": [
              "True"
            ]
          },
          "metadata": {
            "tags": []
          },
          "execution_count": 14
        }
      ]
    },
    {
      "cell_type": "code",
      "metadata": {
        "id": "vDy_QzhHi9bM",
        "colab_type": "code",
        "colab": {},
        "outputId": "7e0018e8-aaa6-42a2-d299-517a5257653c"
      },
      "source": [
        "True or False"
      ],
      "execution_count": null,
      "outputs": [
        {
          "output_type": "execute_result",
          "data": {
            "text/plain": [
              "True"
            ]
          },
          "metadata": {
            "tags": []
          },
          "execution_count": 15
        }
      ]
    },
    {
      "cell_type": "code",
      "metadata": {
        "id": "zKQMh9eGi9bQ",
        "colab_type": "code",
        "colab": {},
        "outputId": "89c09f75-1cc4-4575-bb23-6ef5607b7be3"
      },
      "source": [
        "2 > 1, 2 < 1, 2 > 2, 2 < 2, 2 >= 2, 2 <= 2"
      ],
      "execution_count": null,
      "outputs": [
        {
          "output_type": "execute_result",
          "data": {
            "text/plain": [
              "(True, False, False, False, True, True)"
            ]
          },
          "metadata": {
            "tags": []
          },
          "execution_count": 16
        }
      ]
    },
    {
      "cell_type": "code",
      "metadata": {
        "id": "3jeTrJr4i9bV",
        "colab_type": "code",
        "colab": {},
        "outputId": "67e8aa24-4d30-41b6-e4dc-a628eb72931e"
      },
      "source": [
        "# equality\n",
        "[1,2] == [1,2]"
      ],
      "execution_count": null,
      "outputs": [
        {
          "output_type": "execute_result",
          "data": {
            "text/plain": [
              "True"
            ]
          },
          "metadata": {
            "tags": []
          },
          "execution_count": 17
        }
      ]
    },
    {
      "cell_type": "markdown",
      "metadata": {
        "id": "FYLSn5ubi9bZ",
        "colab_type": "text"
      },
      "source": [
        "### Strings"
      ]
    },
    {
      "cell_type": "code",
      "metadata": {
        "id": "PDCLR0JKi9ba",
        "colab_type": "code",
        "colab": {},
        "outputId": "7c021a56-24fb-47b0-ae6b-391774fb2b81"
      },
      "source": [
        "s = \"Hello world\"\n",
        "type(s)"
      ],
      "execution_count": null,
      "outputs": [
        {
          "output_type": "execute_result",
          "data": {
            "text/plain": [
              "str"
            ]
          },
          "metadata": {
            "tags": []
          },
          "execution_count": 18
        }
      ]
    },
    {
      "cell_type": "code",
      "metadata": {
        "id": "veASUsJvi9bd",
        "colab_type": "code",
        "colab": {},
        "outputId": "16202509-6047-41e1-ca29-81ab8562bc10"
      },
      "source": [
        "len(s)"
      ],
      "execution_count": null,
      "outputs": [
        {
          "output_type": "execute_result",
          "data": {
            "text/plain": [
              "11"
            ]
          },
          "metadata": {
            "tags": []
          },
          "execution_count": 19
        }
      ]
    },
    {
      "cell_type": "code",
      "metadata": {
        "id": "DylAquogi9bi",
        "colab_type": "code",
        "colab": {},
        "outputId": "aef96fc0-f2d7-4a38-e938-6f203cd8bb33"
      },
      "source": [
        "s2 = s.replace(\"world\", \"test\")\n",
        "print(s2)"
      ],
      "execution_count": null,
      "outputs": [
        {
          "output_type": "stream",
          "text": [
            "Hello test\n"
          ],
          "name": "stdout"
        }
      ]
    },
    {
      "cell_type": "code",
      "metadata": {
        "id": "poi9qx6li9bn",
        "colab_type": "code",
        "colab": {},
        "outputId": "db13a3b5-d32d-4197-edea-687c3adb0e0c"
      },
      "source": [
        "s[0]"
      ],
      "execution_count": null,
      "outputs": [
        {
          "output_type": "execute_result",
          "data": {
            "text/plain": [
              "'H'"
            ]
          },
          "metadata": {
            "tags": []
          },
          "execution_count": 21
        }
      ]
    },
    {
      "cell_type": "code",
      "metadata": {
        "id": "Nse78UVgi9bs",
        "colab_type": "code",
        "colab": {},
        "outputId": "db072777-c6e4-44b3-c05c-24a85c4b2de4"
      },
      "source": [
        "s[0:5]"
      ],
      "execution_count": null,
      "outputs": [
        {
          "output_type": "execute_result",
          "data": {
            "text/plain": [
              "'Hello'"
            ]
          },
          "metadata": {
            "tags": []
          },
          "execution_count": 22
        }
      ]
    },
    {
      "cell_type": "code",
      "metadata": {
        "id": "0UfuA7yzi9bv",
        "colab_type": "code",
        "colab": {},
        "outputId": "ce8f8776-4a71-4c4f-987b-f2acd58855ad"
      },
      "source": [
        "s[6:]"
      ],
      "execution_count": null,
      "outputs": [
        {
          "output_type": "execute_result",
          "data": {
            "text/plain": [
              "'world'"
            ]
          },
          "metadata": {
            "tags": []
          },
          "execution_count": 23
        }
      ]
    },
    {
      "cell_type": "code",
      "metadata": {
        "id": "QOMG41bLi9b0",
        "colab_type": "code",
        "colab": {},
        "outputId": "fa533c80-dd8d-4025-9a1f-2dfaf212f818"
      },
      "source": [
        "s[:]"
      ],
      "execution_count": null,
      "outputs": [
        {
          "output_type": "execute_result",
          "data": {
            "text/plain": [
              "'Hello world'"
            ]
          },
          "metadata": {
            "tags": []
          },
          "execution_count": 24
        }
      ]
    },
    {
      "cell_type": "code",
      "metadata": {
        "id": "ZNMpTcOki9b4",
        "colab_type": "code",
        "colab": {},
        "outputId": "35d750dc-5167-41d2-ff95-b7ce9756906d"
      },
      "source": [
        "# define step size of 2\n",
        "s[::2]"
      ],
      "execution_count": null,
      "outputs": [
        {
          "output_type": "execute_result",
          "data": {
            "text/plain": [
              "'Hlowrd'"
            ]
          },
          "metadata": {
            "tags": []
          },
          "execution_count": 25
        }
      ]
    },
    {
      "cell_type": "code",
      "metadata": {
        "id": "F3FmhNFWi9b8",
        "colab_type": "code",
        "colab": {},
        "outputId": "321aeede-6c9f-400a-85e9-d3ff4838f17b"
      },
      "source": [
        "# automatically adds a space\n",
        "print(\"str1\", \"str2\", \"str3\")"
      ],
      "execution_count": null,
      "outputs": [
        {
          "output_type": "stream",
          "text": [
            "('str1', 'str2', 'str3')\n"
          ],
          "name": "stdout"
        }
      ]
    },
    {
      "cell_type": "code",
      "metadata": {
        "id": "FpMGqYmdi9cE",
        "colab_type": "code",
        "colab": {},
        "outputId": "72b245fa-3623-409a-8c93-bff1cad99a77"
      },
      "source": [
        "# C-style formatting\n",
        "print(\"value = %f\" % 1.0) "
      ],
      "execution_count": null,
      "outputs": [
        {
          "output_type": "stream",
          "text": [
            "value = 1.000000\n"
          ],
          "name": "stdout"
        }
      ]
    },
    {
      "cell_type": "code",
      "metadata": {
        "id": "jxjDHN5Xi9cI",
        "colab_type": "code",
        "colab": {},
        "outputId": "202fb4b3-bfb2-451d-8772-b2d7dfc6f06f"
      },
      "source": [
        "# alternative, more intuitive way of formatting a string \n",
        "s3 = 'value1 = {0}, value2 = {1}'.format(3.1415, 1.5)\n",
        "print(s3)"
      ],
      "execution_count": null,
      "outputs": [
        {
          "output_type": "stream",
          "text": [
            "value1 = 3.1415, value2 = 1.5\n"
          ],
          "name": "stdout"
        }
      ]
    },
    {
      "cell_type": "markdown",
      "metadata": {
        "id": "XpktzaHDi9cL",
        "colab_type": "text"
      },
      "source": [
        "### Lists"
      ]
    },
    {
      "cell_type": "code",
      "metadata": {
        "id": "zhY60TlFi9cL",
        "colab_type": "code",
        "colab": {},
        "outputId": "0096e7b9-dd65-46bf-df48-30da7296cd53"
      },
      "source": [
        "l = [1,2,3,4]\n",
        "\n",
        "print(type(l))\n",
        "print(l)"
      ],
      "execution_count": null,
      "outputs": [
        {
          "output_type": "stream",
          "text": [
            "<type 'list'>\n",
            "[1, 2, 3, 4]\n"
          ],
          "name": "stdout"
        }
      ]
    },
    {
      "cell_type": "code",
      "metadata": {
        "id": "MbHg8qLKi9cP",
        "colab_type": "code",
        "colab": {},
        "outputId": "736234b8-45dc-4fdd-8a76-e72a62c37dd0"
      },
      "source": [
        "print(l[1:3])\n",
        "print(l[::2])"
      ],
      "execution_count": null,
      "outputs": [
        {
          "output_type": "stream",
          "text": [
            "[2, 3]\n",
            "[1, 3]\n"
          ],
          "name": "stdout"
        }
      ]
    },
    {
      "cell_type": "code",
      "metadata": {
        "id": "aGQOPnp3i9cU",
        "colab_type": "code",
        "colab": {},
        "outputId": "2d730dc4-8221-40cc-b343-bbdf5de3df70"
      },
      "source": [
        "l[0]"
      ],
      "execution_count": null,
      "outputs": [
        {
          "output_type": "execute_result",
          "data": {
            "text/plain": [
              "1"
            ]
          },
          "metadata": {
            "tags": []
          },
          "execution_count": 31
        }
      ]
    },
    {
      "cell_type": "code",
      "metadata": {
        "id": "libp9Cmai9cX",
        "colab_type": "code",
        "colab": {},
        "outputId": "95b6837d-5586-42f6-f7cb-bb42a2a51593"
      },
      "source": [
        "# don't have to be the same type\n",
        "l = [1, 'a', 1.0, 1-1j]\n",
        "print(l)"
      ],
      "execution_count": null,
      "outputs": [
        {
          "output_type": "stream",
          "text": [
            "[1, 'a', 1.0, (1-1j)]\n"
          ],
          "name": "stdout"
        }
      ]
    },
    {
      "cell_type": "code",
      "metadata": {
        "id": "MdhkQtg1i9cZ",
        "colab_type": "code",
        "colab": {},
        "outputId": "839bcd56-c208-4e48-8113-beabb40212e6"
      },
      "source": [
        "start = 10\n",
        "stop = 30\n",
        "step = 2\n",
        "range(start, stop, step)\n",
        "\n",
        "# consume the iterator created by range\n",
        "list(range(start, stop, step))"
      ],
      "execution_count": null,
      "outputs": [
        {
          "output_type": "execute_result",
          "data": {
            "text/plain": [
              "[10, 12, 14, 16, 18, 20, 22, 24, 26, 28]"
            ]
          },
          "metadata": {
            "tags": []
          },
          "execution_count": 33
        }
      ]
    },
    {
      "cell_type": "code",
      "metadata": {
        "id": "ysTMLmLZi9ce",
        "colab_type": "code",
        "colab": {},
        "outputId": "64e4c83a-a986-4ca7-d491-f64f14295f7d"
      },
      "source": [
        "# create a new empty list\n",
        "l = []\n",
        "\n",
        "# add an elements using `append`\n",
        "l.append(\"A\")\n",
        "l.append(\"d\")\n",
        "l.append(\"d\")\n",
        "\n",
        "print(l)"
      ],
      "execution_count": null,
      "outputs": [
        {
          "output_type": "stream",
          "text": [
            "['A', 'd', 'd']\n"
          ],
          "name": "stdout"
        }
      ]
    },
    {
      "cell_type": "code",
      "metadata": {
        "id": "Tu2GslkPi9ci",
        "colab_type": "code",
        "colab": {},
        "outputId": "180d1b6d-b179-49a1-d0a1-934bc1a37b9c"
      },
      "source": [
        "l[1:3] = [\"b\", \"c\"]\n",
        "print(l)"
      ],
      "execution_count": null,
      "outputs": [
        {
          "output_type": "stream",
          "text": [
            "['A', 'b', 'c']\n"
          ],
          "name": "stdout"
        }
      ]
    },
    {
      "cell_type": "code",
      "metadata": {
        "id": "-lAla_-Ni9cm",
        "colab_type": "code",
        "colab": {},
        "outputId": "f89c8d6a-985b-4b21-9d26-44997bd0a832"
      },
      "source": [
        "l.insert(0, \"i\")\n",
        "l.insert(1, \"n\")\n",
        "l.insert(2, \"s\")\n",
        "l.insert(3, \"e\")\n",
        "l.insert(4, \"r\")\n",
        "l.insert(5, \"t\")\n",
        "\n",
        "print(l)"
      ],
      "execution_count": null,
      "outputs": [
        {
          "output_type": "stream",
          "text": [
            "['i', 'n', 's', 'e', 'r', 't', 'A', 'b', 'c']\n"
          ],
          "name": "stdout"
        }
      ]
    },
    {
      "cell_type": "code",
      "metadata": {
        "id": "tO1czwQVi9co",
        "colab_type": "code",
        "colab": {},
        "outputId": "af4af841-e9c6-4dfb-c35f-e5eb5a63ca80"
      },
      "source": [
        "l.remove(\"A\")\n",
        "print(l)"
      ],
      "execution_count": null,
      "outputs": [
        {
          "output_type": "stream",
          "text": [
            "['i', 'n', 's', 'e', 'r', 't', 'b', 'c']\n"
          ],
          "name": "stdout"
        }
      ]
    },
    {
      "cell_type": "code",
      "metadata": {
        "id": "n00O2XVNi9cs",
        "colab_type": "code",
        "colab": {},
        "outputId": "b9cf89a8-564d-4b9d-80f1-96321b6754ef"
      },
      "source": [
        "del l[7]\n",
        "del l[6]\n",
        "\n",
        "print(l)"
      ],
      "execution_count": null,
      "outputs": [
        {
          "output_type": "stream",
          "text": [
            "['i', 'n', 's', 'e', 'r', 't']\n"
          ],
          "name": "stdout"
        }
      ]
    },
    {
      "cell_type": "markdown",
      "metadata": {
        "id": "TOHM-fTLi9cv",
        "colab_type": "text"
      },
      "source": [
        "### Tuples"
      ]
    },
    {
      "cell_type": "code",
      "metadata": {
        "id": "nNaM-2Kzi9cv",
        "colab_type": "code",
        "colab": {},
        "outputId": "087676ca-e323-469d-e39b-f212ff792b45"
      },
      "source": [
        "point = (10, 20)\n",
        "print(point, type(point))"
      ],
      "execution_count": null,
      "outputs": [
        {
          "output_type": "stream",
          "text": [
            "((10, 20), <type 'tuple'>)\n"
          ],
          "name": "stdout"
        }
      ]
    },
    {
      "cell_type": "code",
      "metadata": {
        "id": "_JenV2MQi9cy",
        "colab_type": "code",
        "colab": {},
        "outputId": "0a961c97-bdc2-4e7f-89ce-a94cf295703c"
      },
      "source": [
        "# unpacking\n",
        "x, y = point\n",
        "\n",
        "print(\"x =\", x)\n",
        "print(\"y =\", y)"
      ],
      "execution_count": null,
      "outputs": [
        {
          "output_type": "stream",
          "text": [
            "('x =', 10)\n",
            "('y =', 20)\n"
          ],
          "name": "stdout"
        }
      ]
    },
    {
      "cell_type": "markdown",
      "metadata": {
        "id": "Z-Z3zmzPi9c0",
        "colab_type": "text"
      },
      "source": [
        "### Dictionaries"
      ]
    },
    {
      "cell_type": "code",
      "metadata": {
        "id": "DwxYxagZi9c1",
        "colab_type": "code",
        "colab": {},
        "outputId": "982a3a2b-d434-4f2a-f1af-1c304de61478"
      },
      "source": [
        "params = {\"parameter1\" : 1.0,\n",
        "          \"parameter2\" : 2.0,\n",
        "          \"parameter3\" : 3.0,}\n",
        "\n",
        "print(type(params))\n",
        "print(params)"
      ],
      "execution_count": null,
      "outputs": [
        {
          "output_type": "stream",
          "text": [
            "<type 'dict'>\n",
            "{'parameter1': 1.0, 'parameter3': 3.0, 'parameter2': 2.0}\n"
          ],
          "name": "stdout"
        }
      ]
    },
    {
      "cell_type": "code",
      "metadata": {
        "id": "LKd9CJSQi9c4",
        "colab_type": "code",
        "colab": {},
        "outputId": "499458b9-939f-4164-d185-cff4bf4ff733"
      },
      "source": [
        "params[\"parameter1\"] = \"A\"\n",
        "params[\"parameter2\"] = \"B\"\n",
        "\n",
        "# add a new entry\n",
        "params[\"parameter4\"] = \"D\"\n",
        "\n",
        "print(\"parameter1 = \" + str(params[\"parameter1\"]))\n",
        "print(\"parameter2 = \" + str(params[\"parameter2\"]))\n",
        "print(\"parameter3 = \" + str(params[\"parameter3\"]))\n",
        "print(\"parameter4 = \" + str(params[\"parameter4\"]))"
      ],
      "execution_count": null,
      "outputs": [
        {
          "output_type": "stream",
          "text": [
            "parameter1 = A\n",
            "parameter2 = B\n",
            "parameter3 = 3.0\n",
            "parameter4 = D\n"
          ],
          "name": "stdout"
        }
      ]
    },
    {
      "cell_type": "markdown",
      "metadata": {
        "id": "Ghzgaw-ri9c7",
        "colab_type": "text"
      },
      "source": [
        "### Control Flow"
      ]
    },
    {
      "cell_type": "code",
      "metadata": {
        "id": "AJxReN4wi9c7",
        "colab_type": "code",
        "colab": {},
        "outputId": "29fce32c-946b-47ff-ddc5-2ea6fd7cc058"
      },
      "source": [
        "statement1 = False\n",
        "statement2 = False\n",
        "\n",
        "if statement1:\n",
        "    print(\"statement1 is True\")\n",
        "elif statement2:\n",
        "    print(\"statement2 is True\")\n",
        "else:\n",
        "    print(\"statement1 and statement2 are False\")"
      ],
      "execution_count": null,
      "outputs": [
        {
          "output_type": "stream",
          "text": [
            "statement1 and statement2 are False\n"
          ],
          "name": "stdout"
        }
      ]
    },
    {
      "cell_type": "markdown",
      "metadata": {
        "id": "v_SuRkFsi9c_",
        "colab_type": "text"
      },
      "source": [
        "### Loops"
      ]
    },
    {
      "cell_type": "code",
      "metadata": {
        "id": "7vOvSNgui9dB",
        "colab_type": "code",
        "colab": {},
        "outputId": "c1fb20ef-6c67-4548-912f-bfaa6f28e76a"
      },
      "source": [
        "for x in range(4):\n",
        "    print(x)"
      ],
      "execution_count": null,
      "outputs": [
        {
          "output_type": "stream",
          "text": [
            "0\n",
            "1\n",
            "2\n",
            "3\n"
          ],
          "name": "stdout"
        }
      ]
    },
    {
      "cell_type": "code",
      "metadata": {
        "id": "d0GQtkPSi9dD",
        "colab_type": "code",
        "colab": {},
        "outputId": "9e38283b-a603-4e53-ec6a-503b7cd73d44"
      },
      "source": [
        "for word in [\"scientific\", \"computing\", \"with\", \"python\"]:\n",
        "    print(word)"
      ],
      "execution_count": null,
      "outputs": [
        {
          "output_type": "stream",
          "text": [
            "scientific\n",
            "computing\n",
            "with\n",
            "python\n"
          ],
          "name": "stdout"
        }
      ]
    },
    {
      "cell_type": "code",
      "metadata": {
        "id": "9e5zDrdni9dG",
        "colab_type": "code",
        "colab": {},
        "outputId": "fd3d8291-bba3-4509-a63b-846a89c03b09"
      },
      "source": [
        "for key, value in params.items():\n",
        "    print(key + \" = \" + str(value))"
      ],
      "execution_count": null,
      "outputs": [
        {
          "output_type": "stream",
          "text": [
            "parameter4 = D\n",
            "parameter1 = A\n",
            "parameter3 = 3.0\n",
            "parameter2 = B\n"
          ],
          "name": "stdout"
        }
      ]
    },
    {
      "cell_type": "code",
      "metadata": {
        "id": "Ge7qyB9Gi9dJ",
        "colab_type": "code",
        "colab": {},
        "outputId": "5300c38f-8b64-4bfd-bba4-95758dd2648e"
      },
      "source": [
        "for idx, x in enumerate(range(-3,3)):\n",
        "    print(idx, x)"
      ],
      "execution_count": null,
      "outputs": [
        {
          "output_type": "stream",
          "text": [
            "(0, -3)\n",
            "(1, -2)\n",
            "(2, -1)\n",
            "(3, 0)\n",
            "(4, 1)\n",
            "(5, 2)\n"
          ],
          "name": "stdout"
        }
      ]
    },
    {
      "cell_type": "code",
      "metadata": {
        "id": "AYV3Oyzoi9dM",
        "colab_type": "code",
        "colab": {},
        "outputId": "cf858e14-f57d-48b4-f7ad-fe5b14e31ac6"
      },
      "source": [
        "l1 = [x**2 for x in range(0,5)]\n",
        "print(l1)"
      ],
      "execution_count": null,
      "outputs": [
        {
          "output_type": "stream",
          "text": [
            "[0, 1, 4, 9, 16]\n"
          ],
          "name": "stdout"
        }
      ]
    },
    {
      "cell_type": "code",
      "metadata": {
        "id": "qG4-GwlQi9dQ",
        "colab_type": "code",
        "colab": {},
        "outputId": "1530c75a-e28d-4d98-b105-24d9d4804e96"
      },
      "source": [
        "i = 0\n",
        "while i < 5:\n",
        "    print(i)\n",
        "    i = i + 1\n",
        "print(\"done\")"
      ],
      "execution_count": null,
      "outputs": [
        {
          "output_type": "stream",
          "text": [
            "0\n",
            "1\n",
            "2\n",
            "3\n",
            "4\n",
            "done\n"
          ],
          "name": "stdout"
        }
      ]
    },
    {
      "cell_type": "markdown",
      "metadata": {
        "id": "pn_IO5OWi9dT",
        "colab_type": "text"
      },
      "source": [
        "### Functions"
      ]
    },
    {
      "cell_type": "code",
      "metadata": {
        "id": "E8OrIly3i9dT",
        "colab_type": "code",
        "colab": {}
      },
      "source": [
        "# include a docstring\n",
        "def func(s):\n",
        "    \"\"\"\n",
        "    Print a string 's' and tell how many characters it has    \n",
        "    \"\"\"\n",
        "    \n",
        "    print(s + \" has \" + str(len(s)) + \" characters\")"
      ],
      "execution_count": null,
      "outputs": []
    },
    {
      "cell_type": "code",
      "metadata": {
        "id": "wIs1fWgfi9dX",
        "colab_type": "code",
        "colab": {},
        "outputId": "f77509cb-204c-497f-ef62-db1f4e88cffa"
      },
      "source": [
        "help(func)"
      ],
      "execution_count": null,
      "outputs": [
        {
          "output_type": "stream",
          "text": [
            "Help on function func in module __main__:\n",
            "\n",
            "func(s)\n",
            "    Print a string 's' and tell how many characters it has\n",
            "\n"
          ],
          "name": "stdout"
        }
      ]
    },
    {
      "cell_type": "code",
      "metadata": {
        "id": "vIOTK4Fni9dZ",
        "colab_type": "code",
        "colab": {},
        "outputId": "412be568-2322-4e6e-ab45-c233e15fdfcf"
      },
      "source": [
        "func(\"test\")"
      ],
      "execution_count": null,
      "outputs": [
        {
          "output_type": "stream",
          "text": [
            "test has 4 characters\n"
          ],
          "name": "stdout"
        }
      ]
    },
    {
      "cell_type": "code",
      "metadata": {
        "id": "2hboouA7i9de",
        "colab_type": "code",
        "colab": {}
      },
      "source": [
        "def square(x):\n",
        "    return x ** 2"
      ],
      "execution_count": null,
      "outputs": []
    },
    {
      "cell_type": "code",
      "metadata": {
        "id": "o7wZiGzVi9dh",
        "colab_type": "code",
        "colab": {},
        "outputId": "096c5fc2-ae9a-4488-b50c-4946a38bc314"
      },
      "source": [
        "square(5)"
      ],
      "execution_count": null,
      "outputs": [
        {
          "output_type": "execute_result",
          "data": {
            "text/plain": [
              "25"
            ]
          },
          "metadata": {
            "tags": []
          },
          "execution_count": 54
        }
      ]
    },
    {
      "cell_type": "code",
      "metadata": {
        "id": "V0vE5fWyi9dk",
        "colab_type": "code",
        "colab": {}
      },
      "source": [
        "# multiple return values\n",
        "def powers(x):\n",
        "    return x ** 2, x ** 3, x ** 4"
      ],
      "execution_count": null,
      "outputs": []
    },
    {
      "cell_type": "code",
      "metadata": {
        "id": "zmjV4lv1i9d1",
        "colab_type": "code",
        "colab": {},
        "outputId": "63563c5d-f8d2-466b-cb23-dab8bef082e9"
      },
      "source": [
        "powers(5)"
      ],
      "execution_count": null,
      "outputs": [
        {
          "output_type": "execute_result",
          "data": {
            "text/plain": [
              "(25, 125, 625)"
            ]
          },
          "metadata": {
            "tags": []
          },
          "execution_count": 56
        }
      ]
    },
    {
      "cell_type": "code",
      "metadata": {
        "id": "5QJ7gx0ri9d5",
        "colab_type": "code",
        "colab": {},
        "outputId": "c5484944-241f-4143-827a-53934f351746"
      },
      "source": [
        "x2, x3, x4 = powers(5)\n",
        "print(x3)"
      ],
      "execution_count": null,
      "outputs": [
        {
          "output_type": "stream",
          "text": [
            "125\n"
          ],
          "name": "stdout"
        }
      ]
    },
    {
      "cell_type": "code",
      "metadata": {
        "id": "qAXJx46Ji9d7",
        "colab_type": "code",
        "colab": {},
        "outputId": "31d77440-4ff8-4988-aa84-5c233e42de8d"
      },
      "source": [
        "f1 = lambda x: x**2\n",
        "f1(5)"
      ],
      "execution_count": null,
      "outputs": [
        {
          "output_type": "execute_result",
          "data": {
            "text/plain": [
              "25"
            ]
          },
          "metadata": {
            "tags": []
          },
          "execution_count": 58
        }
      ]
    },
    {
      "cell_type": "code",
      "metadata": {
        "id": "lOmkEJKQi9d9",
        "colab_type": "code",
        "colab": {},
        "outputId": "569bd5e8-ed46-4f10-a2fb-1948733808fc"
      },
      "source": [
        "map(lambda x: x**2, range(-3,4))"
      ],
      "execution_count": null,
      "outputs": [
        {
          "output_type": "execute_result",
          "data": {
            "text/plain": [
              "[9, 4, 1, 0, 1, 4, 9]"
            ]
          },
          "metadata": {
            "tags": []
          },
          "execution_count": 59
        }
      ]
    },
    {
      "cell_type": "code",
      "metadata": {
        "id": "NYQ9ySHoi9eA",
        "colab_type": "code",
        "colab": {},
        "outputId": "ba1aaba2-09ad-467c-c61a-1c461d2eafda"
      },
      "source": [
        "# convert iterator to list\n",
        "list(map(lambda x: x**2, range(-3,4)))"
      ],
      "execution_count": null,
      "outputs": [
        {
          "output_type": "execute_result",
          "data": {
            "text/plain": [
              "[9, 4, 1, 0, 1, 4, 9]"
            ]
          },
          "metadata": {
            "tags": []
          },
          "execution_count": 60
        }
      ]
    },
    {
      "cell_type": "markdown",
      "metadata": {
        "id": "hGytcA29i9eD",
        "colab_type": "text"
      },
      "source": [
        "### Classes"
      ]
    },
    {
      "cell_type": "code",
      "metadata": {
        "id": "IzXqf9mUi9eE",
        "colab_type": "code",
        "colab": {}
      },
      "source": [
        "class Point:\n",
        "    def __init__(self, x, y):\n",
        "        self.x = x\n",
        "        self.y = y\n",
        "        \n",
        "    def translate(self, dx, dy):\n",
        "        self.x += dx\n",
        "        self.y += dy\n",
        "        \n",
        "    def __str__(self):\n",
        "        return(\"Point at [%f, %f]\" % (self.x, self.y))"
      ],
      "execution_count": null,
      "outputs": []
    },
    {
      "cell_type": "code",
      "metadata": {
        "id": "M4L2LAOhi9eG",
        "colab_type": "code",
        "colab": {},
        "outputId": "7f4f948c-b0f6-484a-9c32-b4b289eca89e"
      },
      "source": [
        "p1 = Point(0, 0)\n",
        "print(p1)"
      ],
      "execution_count": null,
      "outputs": [
        {
          "output_type": "stream",
          "text": [
            "Point at [0.000000, 0.000000]\n"
          ],
          "name": "stdout"
        }
      ]
    },
    {
      "cell_type": "code",
      "metadata": {
        "id": "KfrkitwEi9eI",
        "colab_type": "code",
        "colab": {},
        "outputId": "13df8ce2-5891-401f-ae79-31321f1e4fd9"
      },
      "source": [
        "p2 = Point(1, 1)\n",
        "\n",
        "p1.translate(0.25, 1.5)\n",
        "\n",
        "print(p1)\n",
        "print(p2)"
      ],
      "execution_count": null,
      "outputs": [
        {
          "output_type": "stream",
          "text": [
            "Point at [0.250000, 1.500000]\n",
            "Point at [1.000000, 1.000000]\n"
          ],
          "name": "stdout"
        }
      ]
    },
    {
      "cell_type": "markdown",
      "metadata": {
        "id": "lkZViafqi9eL",
        "colab_type": "text"
      },
      "source": [
        "### Exceptions"
      ]
    },
    {
      "cell_type": "code",
      "metadata": {
        "id": "Yf71XOyQi9eL",
        "colab_type": "code",
        "colab": {},
        "outputId": "a0cfe39c-23fd-4bb1-9ed9-9832b2c08bec"
      },
      "source": [
        "try:\n",
        "    print(test)\n",
        "except:\n",
        "    print(\"Caught an expection\")"
      ],
      "execution_count": null,
      "outputs": [
        {
          "output_type": "stream",
          "text": [
            "Caught an expection\n"
          ],
          "name": "stdout"
        }
      ]
    },
    {
      "cell_type": "code",
      "metadata": {
        "id": "2rQPaHW-i9eO",
        "colab_type": "code",
        "colab": {},
        "outputId": "8227008c-1221-4afb-8cb5-8271033d260f"
      },
      "source": [
        "try:\n",
        "    print(test)\n",
        "except Exception as e:\n",
        "    print(\"Caught an exception: \" + str(e))"
      ],
      "execution_count": null,
      "outputs": [
        {
          "output_type": "stream",
          "text": [
            "Caught an exception: name 'test' is not defined\n"
          ],
          "name": "stdout"
        }
      ]
    }
  ]
}