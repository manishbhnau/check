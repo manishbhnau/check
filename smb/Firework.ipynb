{
  "nbformat": 4,
  "nbformat_minor": 0,
  "metadata": {
    "colab": {
      "name": "Firework",
      "provenance": [],
      "include_colab_link": true
    }
  },
  "cells": [
    {
      "cell_type": "markdown",
      "metadata": {
        "id": "view-in-github",
        "colab_type": "text"
      },
      "source": [
        "<a href=\"https://colab.research.google.com/github/manishbhnau/check/blob/master/smb/Firework.ipynb\" target=\"_parent\"><img src=\"https://colab.research.google.com/assets/colab-badge.svg\" alt=\"Open In Colab\"/></a>"
      ]
    },
    {
      "cell_type": "markdown",
      "metadata": {
        "id": "rMV-9TZ8lx1g",
        "colab_type": "text"
      },
      "source": [
        "A simple firework animation with [`ipythonblocks`](https://github.com/jiffyclub/ipythonblocks)."
      ]
    },
    {
      "cell_type": "code",
      "metadata": {
        "id": "rn6e6vd1lx1n",
        "colab_type": "code",
        "colab": {}
      },
      "source": [
        "from ipythonblocks import BlockGrid\n",
        "aaa=100"
      ],
      "execution_count": null,
      "outputs": []
    },
    {
      "cell_type": "code",
      "metadata": {
        "id": "yjCph4e2lx1-",
        "colab_type": "code",
        "colab": {}
      },
      "source": [
        "import math\n",
        "import itertools"
      ],
      "execution_count": null,
      "outputs": []
    },
    {
      "cell_type": "code",
      "metadata": {
        "id": "u6T-bzTAlx2R",
        "colab_type": "code",
        "colab": {}
      },
      "source": [
        "def dist(p1, p2):\n",
        "    return math.sqrt((p1[0] - p2[0]) ** 2 + (p1[1] - p2[1]) ** 2)"
      ],
      "execution_count": null,
      "outputs": []
    },
    {
      "cell_type": "code",
      "metadata": {
        "id": "HolBD_3olx2g",
        "colab_type": "code",
        "colab": {},
        "outputId": "3017ca46-13f8-43b9-caf0-f09d3194ad89"
      },
      "source": [
        "grid = BlockGrid(41, 41, block_size=8, lines_on=False)\n",
        "\n",
        "red = (255, 43, 43)\n",
        "orange = (255, 142, 43)\n",
        "yellow = (248, 255, 43)\n",
        "black = (0, 0, 0)\n",
        "gray = (188, 188, 188)\n",
        "blue = (15, 183, 255)\n",
        "pink = (255, 79, 249)\n",
        "green = (76, 224, 133)\n",
        "\n",
        "# launch explosion\n",
        "launch_center = (40, 20)\n",
        "\n",
        "for i in (1, 2, 3, 2, 1):\n",
        "    for block in grid:\n",
        "        if dist((block.row, block.col), launch_center) < i*3:\n",
        "            block.rgb = yellow\n",
        "        else:\n",
        "            block.rgb = black\n",
        "        \n",
        "        if dist((block.row, block.col), launch_center) < i*2:\n",
        "            block.rgb = orange\n",
        "        \n",
        "        if dist((block.row, block.col), launch_center) < i:\n",
        "            block.rgb = red\n",
        "\n",
        "    grid.flash()\n",
        "\n",
        "# ascent\n",
        "for i in range(17):\n",
        "    grid[:, :] = black\n",
        "    row = 36 - i\n",
        "    grid[row:row + 2, 20] = gray\n",
        "    grid.flash()\n",
        "    \n",
        "# firework\n",
        "firework_center = (20, 20)\n",
        "colors = itertools.cycle((blue, pink, green))\n",
        "\n",
        "for i in range(0, 20):\n",
        "    grid[:, :] = black\n",
        "    for j in range(0, i, 2):\n",
        "        color = colors.next()\n",
        "        for block in grid:\n",
        "            if round(dist((block.row, block.col), firework_center)) == j:\n",
        "                block.rgb = color\n",
        "    grid.flash()\n",
        "\n",
        "grid.show()"
      ],
      "execution_count": null,
      "outputs": [
        {
          "output_type": "display_data",
          "data": {},
          "metadata": {
            "tags": []
          }
        }
      ]
    },
    {
      "cell_type": "code",
      "metadata": {
        "id": "-HMFaSSJlx2w",
        "colab_type": "code",
        "colab": {}
      },
      "source": [
        ""
      ],
      "execution_count": null,
      "outputs": []
    }
  ]
}